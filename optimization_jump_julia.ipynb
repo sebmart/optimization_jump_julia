{
 "cells": [
  {
   "cell_type": "markdown",
   "metadata": {
    "slideshow": {
     "slide_type": "slide"
    }
   },
   "source": [
    "# Optimization with JuMP in Julia\n",
    "<table>\n",
    "<tr>\n",
    "<td> <a href=\"http://www.sloansportsconference.com\"><img src=\"figures/ssac.jpg\" alt=\"SSAC\" style=\"max-height: 150px;\"/> </a></td>\n",
    "<td> <a href=\"http://julialang.org\"><img src=\"figures/julia.png\" alt=\"Julia\" style=\"max-height: 150px;\"/></a></td>\n",
    " <td> <a href=\"https://github.com/JuliaOpt/JuMP.jl\"><img src=\"figures/jump.png\" alt=\"IJulia\" style=\"max-height: 150px;\"/></a></td>\n",
    "<td> <a href=\"http://jupyter.org\"><img src=\"figures/jupyter.png\" alt=\"Jupyter\" style=\"max-height: 150px;\"/></a></td>\n",
    "</tr></table>\n",
    "\n",
    "### *Sebastien Martin*\n",
    "PhD Candidate in Operations Research, MIT Sloan. \n",
    "\n",
    "*Website*: **[http://sebmart.github.io](http://sebmart.github.io)**"
   ]
  },
  {
   "cell_type": "markdown",
   "metadata": {
    "slideshow": {
     "slide_type": "skip"
    }
   },
   "source": [
    "\n",
    "-----------------------------------\n",
    "\n",
    "This IJulia/Jupyter notebook is an introduction to the **Julia** language and its optimization package **JuMP**, with examples in Sports Analytics. The notebook was made for the 1-hour workshop *Optimization with JuMP in Julia* at the  [2018 MIT Sloan Sports Analytics Conference (SSAC2018)](http://www.sloansportsconference.com/), presented by Sebastien Martin.\n",
    "\n",
    "\n",
    "It is distributed with OpenSource/MIT license, at [https://github.com/sebmart/optimization_jump_julia](https://github.com/sebmart/optimization_jump_julia).\n",
    "\n",
    "The notebook features a quick overview of Julia and JuMP, with many links to more specific, thorough material. We hope readers will use this resource as a reference. It is also optimized to be presented as a slide-deck with [RISE](https://github.com/damianavila/RISE). It was built for Julia 0.6.\n",
    "\n",
    "This notebook also includes open-source contributions from [Arthur Delarue](https://adelarue.github.io/) and [Miles Lubin](https://mlubin.github.io/).\n",
    "\n",
    "-----------------------------------\n",
    "\n",
    "To learn how to write Julia code and run this notebook by yourself, please refer to the Appendix 1, 2 and 3 at the end of this notebook.\n",
    "\n",
    "____________________________________"
   ]
  },
  {
   "cell_type": "markdown",
   "metadata": {
    "slideshow": {
     "slide_type": "skip"
    }
   },
   "source": [
    "To be able to run the code of this notebook, please install the packages:\n",
    "- `Plots`\n",
    "- `PlotlyJS`\n",
    "\n",
    "and run the following code to load the packages:"
   ]
  },
  {
   "cell_type": "code",
   "execution_count": null,
   "metadata": {
    "slideshow": {
     "slide_type": "skip"
    }
   },
   "outputs": [],
   "source": [
    "using Plots\n",
    "plotlyjs()"
   ]
  },
  {
   "cell_type": "markdown",
   "metadata": {
    "slideshow": {
     "slide_type": "slide"
    }
   },
   "source": [
    "# Section 1: Why Julia?\n",
    "\n",
    "Quoting the [Julia website](http://julialang.org):\n",
    "> Julia is a **high-level**, **high-performance** **dynamic** programming language for **technical computing**, with syntax that is familiar to users of other technical computing environments. It provides a sophisticated compiler, distributed parallel execution, numerical accuracy, and an extensive mathematical function library."
   ]
  },
  {
   "cell_type": "markdown",
   "metadata": {
    "slideshow": {
     "slide_type": "slide"
    }
   },
   "source": [
    "A **high-level** language:\n",
    "\n",
    "- Easy to use and learn, with a similar syntax to Python/Matlab. \n",
    "- It is possible to do complicated computations quickly."
   ]
  },
  {
   "cell_type": "markdown",
   "metadata": {
    "slideshow": {
     "slide_type": "subslide"
    }
   },
   "source": [
    "For example, to get the sum of all the squares of all the numbers than 1 million:"
   ]
  },
  {
   "cell_type": "code",
   "execution_count": null,
   "metadata": {
    "slideshow": {
     "slide_type": "fragment"
    }
   },
   "outputs": [],
   "source": [
    "sum(n^2 for n in 1:1_000_000)"
   ]
  },
  {
   "cell_type": "markdown",
   "metadata": {
    "slideshow": {
     "slide_type": "slide"
    }
   },
   "source": [
    "A **dynamic** language:\n",
    "\n",
    "- Julia is, like Python, Matlab or R, a dynamic language: you can interact with the language without the need to compile your code. It is easy to use it for prototyping or presenting results."
   ]
  },
  {
   "cell_type": "markdown",
   "metadata": {
    "slideshow": {
     "slide_type": "slide"
    }
   },
   "source": [
    "A **high-performance** language: Julia is fast. Vanilla Julia code can reach performance comparable to C and Fortran (i.e., **very fast**).\n",
    "<a href=\"http://nbviewer.jupyter.org/url/julialang.org/benchmarks/benchmarks.ipynb\"><img src=\"figures/Julia-benchmarks.png\" alt=\"Julia\" style=\"width: 1500px;\"/></a>"
   ]
  },
  {
   "cell_type": "markdown",
   "metadata": {
    "slideshow": {
     "slide_type": "slide"
    }
   },
   "source": [
    "A language for **technical computing**:\n",
    "- Julia has a lot of built in functions for scientific computing.\n",
    "- A growing number of packages, mostly written in Julia itself.\n",
    "- Powerful editors like *Jupyter* (used for this presentation)\n",
    "- More and more users in Finance, Biology, Optimization, Analytics...\n",
    "\n",
    "> Julia is a perfect compagnon for **Sports Analytics**\n"
   ]
  },
  {
   "cell_type": "code",
   "execution_count": null,
   "metadata": {
    "slideshow": {
     "slide_type": "slide"
    }
   },
   "outputs": [],
   "source": [
    "x = y = linspace(-15,15,100)\n",
    "f(x,y) = sin(sqrt(x^2+y^2))/sqrt(x^2+y^2)\n",
    "plot(x,y,f,st=:surface, legend=false, size=(800,600))"
   ]
  },
  {
   "cell_type": "markdown",
   "metadata": {
    "slideshow": {
     "slide_type": "slide"
    }
   },
   "source": [
    "# Section 2: Optimization and JuMP"
   ]
  },
  {
   "cell_type": "markdown",
   "metadata": {
    "slideshow": {
     "slide_type": "skip"
    }
   },
   "source": [
    "Analytics allows us to make sense of Big Data, and to build strong predictive models.\n",
    "\n",
    "But the time comes when decisions need to be made that take into account these insights and predictions, **Optimization** is the field that matters."
   ]
  },
  {
   "cell_type": "markdown",
   "metadata": {
    "slideshow": {
     "slide_type": "slide"
    }
   },
   "source": [
    "<img src=\"figures/datascience-1.svg\" alt=\"datascience diagram part 1\" style=\"max-height: 800px;\"/>"
   ]
  },
  {
   "cell_type": "markdown",
   "metadata": {
    "slideshow": {
     "slide_type": "slide"
    }
   },
   "source": [
    "<img src=\"figures/datascience-2.svg\" alt=\"datascience diagram part 2\" style=\"max-height: 800px;\"/>"
   ]
  },
  {
   "cell_type": "markdown",
   "metadata": {
    "slideshow": {
     "slide_type": "slide"
    }
   },
   "source": [
    "## Sports Decisions\n",
    "Sports Analytics can help making a lot of important decisions\n",
    "- **Scheduling** games (what teams, when)\n",
    "- **Choosing** team players (also for fantasy games)\n",
    "- Pitching order in baseball, substitution **strategy** in basketball...\n",
    "- **Personalized** training and nutrition."
   ]
  },
  {
   "cell_type": "markdown",
   "metadata": {
    "slideshow": {
     "slide_type": "slide"
    }
   },
   "source": [
    "## Optimization Formulations\n",
    "<img src=\"figures/optimization.svg\" alt=\"decisions constraints objective\" style=\"max-height: 800px;\"/>\n",
    "- **Convex/Linear Optimization**: \"easy\" to solve, but limited modeling power.\n",
    "- **Integer Optimization**: make choices between different possibilities, hard but more powerful."
   ]
  },
  {
   "cell_type": "markdown",
   "metadata": {
    "slideshow": {
     "slide_type": "slide"
    }
   },
   "source": [
    "<img src=\"figures/JuMP.svg\" alt=\"decisions\" style=\"max-height: 800px;\"/>\n"
   ]
  },
  {
   "cell_type": "code",
   "execution_count": null,
   "metadata": {
    "slideshow": {
     "slide_type": "slide"
    }
   },
   "outputs": [],
   "source": []
  },
  {
   "cell_type": "markdown",
   "metadata": {
    "slideshow": {
     "slide_type": "slide"
    }
   },
   "source": [
    "# Thank you! \n",
    "\n",
    "This presentation is available at [https://github.com/sebmart/optimization_jump_julia](). It contains a lot of additional material and links to learn more about Julia if you are interested.\n",
    "<table>\n",
    "<tr>\n",
    "<td> <a href=\"http://www.sloansportsconference.com\"><img src=\"figures/ssac.jpg\" alt=\"SSAC\" style=\"max-height: 150px;\"/> </a></td>\n",
    "<td> <a href=\"http://julialang.org\"><img src=\"figures/julia.png\" alt=\"Julia\" style=\"max-height: 150px;\"/></a></td>\n",
    " <td> <a href=\"https://github.com/JuliaOpt/JuMP.jl\"><img src=\"figures/jump.png\" alt=\"IJulia\" style=\"max-height: 150px;\"/></a></td>\n",
    "<td> <a href=\"http://jupyter.org\"><img src=\"figures/jupyter.png\" alt=\"Jupyter\" style=\"max-height: 150px;\"/></a></td>\n",
    "</tr></table>\n",
    "\n",
    "### *Sebastien Martin*\n",
    "PhD Candidate in Operations Research, MIT Sloan. \n",
    "\n",
    "*Website*: **[http://sebmart.github.io](http://sebmart.github.io)**"
   ]
  },
  {
   "cell_type": "markdown",
   "metadata": {
    "collapsed": true,
    "slideshow": {
     "slide_type": "slide"
    }
   },
   "source": [
    "# Appendix 1: Jupyter notebooks in Julia\n",
    "In this work, we use Julia through a Jupyter notebook, a useful tool (originally for Python) made available to Julia by the IJulia project."
   ]
  },
  {
   "cell_type": "markdown",
   "metadata": {
    "slideshow": {
     "slide_type": "slide"
    }
   },
   "source": [
    "### What is a Jupyter Notebook?\n",
    "- Jupyter notebooks are **documents** (like a Word document) that can contain and run code.\n",
    "- They were originally created for Python as part of the IPython project, and adapted for Julia by the **IJulia** project.\n",
    "- They are very useful to **prototype**, draw **plots**, or even for teaching material like this one.\n",
    "- The document relies only on a modern browser for rendering, and can easily be **shared**."
   ]
  },
  {
   "cell_type": "markdown",
   "metadata": {
    "slideshow": {
     "slide_type": "slide"
    }
   },
   "source": [
    "### Installing IJulia and loading this notebook\n",
    "Once Julia is installed, start julia and just run the following command to install the `IJulia` package (you did this on the pre-assignment).\n",
    "```jl\n",
    "Pkg.install(\"IJulia\")\n",
    "```\n",
    "This should work on its own. If there is any issue, check out the [IJulia website](https://github.com/JuliaLang/IJulia.jl).\n",
    "\n",
    "Once IJulia is installed, go to the notebook file (_.ipynb_) directory, start julia and run:\n",
    "```jl\n",
    "using IJulia\n",
    "notebook()\n",
    "```\n",
    "A webpage should open automatically, just click on the notebook to load it."
   ]
  },
  {
   "cell_type": "markdown",
   "metadata": {
    "slideshow": {
     "slide_type": "slide"
    }
   },
   "source": [
    "### Navigating the notebook\n",
    "\n",
    "- Click `Help -> User Interface Tour` for a guided tour of the interface.\n",
    "- Each notebook is composed of **cells**, that either contain code or text (`Markdown`).\n",
    "- You can edit the content of a cell by double-clicking on it (_Edit Mode_)."
   ]
  },
  {
   "cell_type": "markdown",
   "metadata": {
    "slideshow": {
     "slide_type": "slide"
    }
   },
   "source": [
    "When you are not editing a cell, you are in _Command mode_ and can edit the structure of the notebook (cells, name, options...)"
   ]
  },
  {
   "cell_type": "markdown",
   "metadata": {
    "slideshow": {
     "slide_type": "subslide"
    }
   },
   "source": [
    "- Create a cell by:\n",
    "    - Clicking `Insert -> Insert Cell`\n",
    "    - Pressing `a` or `b` in Command Mode\n",
    "    - Pressing `Alt+Enter` in Edit Mode"
   ]
  },
  {
   "cell_type": "markdown",
   "metadata": {
    "slideshow": {
     "slide_type": "subslide"
    }
   },
   "source": [
    "- Delete a cell by:\n",
    "    - Clicking `Edit -> Delete Cell`\n",
    "    - Pressing `dd`"
   ]
  },
  {
   "cell_type": "markdown",
   "metadata": {
    "slideshow": {
     "slide_type": "subslide"
    }
   },
   "source": [
    "- Execute a cell by:\n",
    "    - Clicking `Cell -> Run`\n",
    "    - Pressing `Ctrl+Enter`"
   ]
  },
  {
   "cell_type": "markdown",
   "metadata": {
    "slideshow": {
     "slide_type": "subslide"
    }
   },
   "source": [
    "Other functions:\n",
    "- Undo last text edit with `Ctrl+z` in Edit Mode\n",
    "- Undo last cell manipulation with `z` in Command Mode\n",
    "- Save notebook with `Ctrl+s` in Edit Mode\n",
    "- Save notebook with `s` in Command Mode\n",
    "\n",
    "Though notebooks rely on your browser to work, they do not require an internet connection (except for math rendering)."
   ]
  },
  {
   "cell_type": "markdown",
   "metadata": {
    "slideshow": {
     "slide_type": "slide"
    }
   },
   "source": [
    "### Get comfortable with the notebook\n",
    "Notebooks are designed to not be fragile. If you try to close a notebook with unsaved changes, the browser will warn you.\n",
    "\n",
    "Try the following exercises:"
   ]
  },
  {
   "cell_type": "markdown",
   "metadata": {
    "slideshow": {
     "slide_type": "subslide"
    }
   },
   "source": [
    ">**\\[Exercise\\]**: Close/open\n",
    "\n",
    ">1. Save the notebook\n",
    ">2. Copy the address\n",
    ">3. Close the tab\n",
    ">4. Paste the address into a new tab (or re-open the last closed tab with `Ctrl+Shift+T` on Chrome)\n",
    "\n",
    ">_The document is still there, and the Julia kernel is still alive! Nothing is lost._"
   ]
  },
  {
   "cell_type": "markdown",
   "metadata": {
    "slideshow": {
     "slide_type": "subslide"
    }
   },
   "source": [
    ">**\\[Exercise\\]**: Zoom\n",
    "\n",
    ">Try changing the magnification of the web page (`Ctrl+, Ctrl-` on Chrome).\n",
    "\n",
    ">_Text and math scale well (so do graphics if you use an SVG or PDF backend)._"
   ]
  },
  {
   "cell_type": "markdown",
   "metadata": {
    "slideshow": {
     "slide_type": "subslide"
    }
   },
   "source": [
    ">**\\[Exercise\\]**: MathJax\n",
    ">1. Create a new cell, and select the type `Markdown` (or press `m`)\n",
    ">2. Type an opening \\$, your favorite mathematical expression, and a closing \\$.\n",
    ">3. Run the cell to render the $\\LaTeX$ expression.\n",
    ">4. Right-click the rendered expression."
   ]
  },
  {
   "cell_type": "markdown",
   "metadata": {
    "collapsed": true,
    "slideshow": {
     "slide_type": "slide"
    }
   },
   "source": [
    "# Appendix 2: Coding in Julia\n",
    "\n",
    "This section is a brief introduction to Julia. It is not a comprehensive tutorial but more a _taste_ of the language for those who do not know it, and a showcase of cool features for those who already know Julia.\n",
    "\n",
    "Very good [tutorials](http://julialang.org/learning/) are available online and in books if you are interested in learning the language."
   ]
  },
  {
   "cell_type": "markdown",
   "metadata": {
    "slideshow": {
     "slide_type": "slide"
    }
   },
   "source": [
    "### Basic use\n",
    "Julia, as a dynamic language, can simply be used as a calculator:"
   ]
  },
  {
   "cell_type": "code",
   "execution_count": null,
   "metadata": {
    "slideshow": {
     "slide_type": "fragment"
    }
   },
   "outputs": [],
   "source": [
    "1+1"
   ]
  },
  {
   "cell_type": "code",
   "execution_count": null,
   "metadata": {
    "slideshow": {
     "slide_type": "fragment"
    }
   },
   "outputs": [],
   "source": [
    "sin(exp(2*pi)+sqrt(3))"
   ]
  },
  {
   "cell_type": "markdown",
   "metadata": {
    "slideshow": {
     "slide_type": "slide"
    }
   },
   "source": [
    "The building blocs of Julia code are variables:"
   ]
  },
  {
   "cell_type": "code",
   "execution_count": null,
   "metadata": {
    "slideshow": {
     "slide_type": "fragment"
    }
   },
   "outputs": [],
   "source": [
    "a = 1\n",
    "b = 2\n",
    "# This is a comment \n",
    "c = a^2 + b^3 "
   ]
  },
  {
   "cell_type": "markdown",
   "metadata": {
    "slideshow": {
     "slide_type": "slide"
    }
   },
   "source": [
    "Julia supports the common `if`, `while` and `for` structures:"
   ]
  },
  {
   "cell_type": "code",
   "execution_count": null,
   "metadata": {
    "slideshow": {
     "slide_type": "fragment"
    }
   },
   "outputs": [],
   "source": [
    "if c >= 10\n",
    "    print(\"Hello\")\n",
    "else\n",
    "    print(\"World\")\n",
    "end"
   ]
  },
  {
   "cell_type": "code",
   "execution_count": null,
   "metadata": {
    "slideshow": {
     "slide_type": "subslide"
    }
   },
   "outputs": [],
   "source": [
    "i = 1\n",
    "while i <= 5\n",
    "    println(\"Why, hello!\") # Print with a new line\n",
    "    i += 1\n",
    "end"
   ]
  },
  {
   "cell_type": "code",
   "execution_count": null,
   "metadata": {
    "slideshow": {
     "slide_type": "subslide"
    }
   },
   "outputs": [],
   "source": [
    "for i = 1:3\n",
    "    print(\"$i banana\") # '$' can be used to insert variables into text\n",
    "    if i>1\n",
    "        print(\"s\")\n",
    "    end\n",
    "    println() # Just a new line\n",
    "end"
   ]
  },
  {
   "cell_type": "markdown",
   "metadata": {
    "slideshow": {
     "slide_type": "fragment"
    }
   },
   "source": [
    "**Do not worry about writing loops**: in Julia, they are as fast as writing vectorized code, and sometimes faster!"
   ]
  },
  {
   "cell_type": "markdown",
   "metadata": {
    "slideshow": {
     "slide_type": "slide"
    }
   },
   "source": [
    "**Arrays** (list of numbers) are at the core of research computing and Julia's arrays are extremely optimized."
   ]
  },
  {
   "cell_type": "code",
   "execution_count": null,
   "metadata": {
    "slideshow": {
     "slide_type": "fragment"
    }
   },
   "outputs": [],
   "source": [
    "myList = [1, 2, 3]"
   ]
  },
  {
   "cell_type": "markdown",
   "metadata": {
    "slideshow": {
     "slide_type": "fragment"
    }
   },
   "source": [
    "Array indexing starts with 1 in Julia:"
   ]
  },
  {
   "cell_type": "code",
   "execution_count": null,
   "metadata": {
    "slideshow": {
     "slide_type": "fragment"
    }
   },
   "outputs": [],
   "source": [
    "myList[1]"
   ]
  },
  {
   "cell_type": "code",
   "execution_count": null,
   "metadata": {
    "slideshow": {
     "slide_type": "fragment"
    }
   },
   "outputs": [],
   "source": [
    "myList[3] = 4 \n",
    "myList"
   ]
  },
  {
   "cell_type": "markdown",
   "metadata": {
    "slideshow": {
     "slide_type": "slide"
    }
   },
   "source": [
    "A 2-dimensional array is a Matrix"
   ]
  },
  {
   "cell_type": "code",
   "execution_count": null,
   "metadata": {
    "slideshow": {
     "slide_type": "fragment"
    }
   },
   "outputs": [],
   "source": [
    "A = [1 2 3\n",
    "     2 1 2\n",
    "     3 2 1]\n",
    "\n",
    "A = [1 2 3; 2 1 2; 3 2 1] #same thing"
   ]
  },
  {
   "cell_type": "markdown",
   "metadata": {
    "slideshow": {
     "slide_type": "subslide"
    }
   },
   "source": [
    "Matrices can be multiplied, inverted..."
   ]
  },
  {
   "cell_type": "code",
   "execution_count": null,
   "metadata": {
    "slideshow": {
     "slide_type": "fragment"
    }
   },
   "outputs": [],
   "source": [
    "A^-1 #inverse\n",
    "\n",
    "A^2 * A^-1"
   ]
  },
  {
   "cell_type": "code",
   "execution_count": null,
   "metadata": {
    "slideshow": {
     "slide_type": "fragment"
    }
   },
   "outputs": [],
   "source": [
    "A*[1,2,3]"
   ]
  },
  {
   "cell_type": "code",
   "execution_count": null,
   "metadata": {
    "slideshow": {
     "slide_type": "subslide"
    }
   },
   "outputs": [],
   "source": [
    "eigenValues, eigenVectors = eig(A)\n",
    "eigenValues"
   ]
  },
  {
   "cell_type": "markdown",
   "metadata": {
    "slideshow": {
     "slide_type": "slide"
    }
   },
   "source": [
    "Let's try a quick exercise!\n",
    "\n",
    "> **[Exercise]** A random variable $X\\sim\\text{Bin}(n,p)$ is defined as the number of successes in $n$ trials where each trial has a success probability $p$. For example, if $X=\\text{Bin}(10,0.5)$, then $X$ is the number of coin flips that turn up heads in 10 flips of a fair coin.\n",
    "\n",
    "> Using only the function `rand()`, which generates a uniformly random number between 0 and 1, write a function `binomial_rv(n,p)` that outputs a single draw of a binomial random variable with parameters `n` and `p`."
   ]
  },
  {
   "cell_type": "code",
   "execution_count": null,
   "metadata": {
    "slideshow": {
     "slide_type": "subslide"
    }
   },
   "outputs": [],
   "source": [
    "function binomial_rv(n, p)\n",
    "    # your code here\n",
    "    \n",
    "end\n",
    "binomial_rv(10,0.5)"
   ]
  },
  {
   "cell_type": "markdown",
   "metadata": {
    "slideshow": {
     "slide_type": "slide"
    }
   },
   "source": [
    "### Just-in-time compilation\n",
    "\n",
    "We mentioned earlier that one of the reasons Julia is fast is _just-in-time_ compilation. This means that right before a function is executed, Julia compiles it and optimizes it. Function compilations are also cached for future use."
   ]
  },
  {
   "cell_type": "code",
   "execution_count": null,
   "metadata": {
    "slideshow": {
     "slide_type": "subslide"
    }
   },
   "outputs": [],
   "source": [
    "function countTo(n)\n",
    "    count = 0\n",
    "    @time for i = 1:n\n",
    "        count += 1\n",
    "    end\n",
    "    return count\n",
    "end\n",
    "println(\"First use: slow like a dynamic language\")\n",
    "@time countTo(10_000_000) \n",
    "println(\"Second use: compiled and optimized automatically\")\n",
    "@time countTo(10_000_000);"
   ]
  },
  {
   "cell_type": "markdown",
   "metadata": {
    "slideshow": {
     "slide_type": "slide"
    }
   },
   "source": [
    "### Type stability\n",
    "\n",
    "Other interpreted languages have just-in-time compilers (e.g. Python). Why is Julia better?\n",
    "\n",
    "**Types:** Everything has a type in Julia"
   ]
  },
  {
   "cell_type": "code",
   "execution_count": null,
   "metadata": {
    "slideshow": {
     "slide_type": "fragment"
    }
   },
   "outputs": [],
   "source": [
    "typeof(1)"
   ]
  },
  {
   "cell_type": "code",
   "execution_count": null,
   "metadata": {
    "slideshow": {
     "slide_type": "fragment"
    }
   },
   "outputs": [],
   "source": [
    "typeof(1.5)"
   ]
  },
  {
   "cell_type": "code",
   "execution_count": null,
   "metadata": {
    "slideshow": {
     "slide_type": "fragment"
    }
   },
   "outputs": [],
   "source": [
    "typeof(\"abc\")"
   ]
  },
  {
   "cell_type": "markdown",
   "metadata": {
    "slideshow": {
     "slide_type": "slide"
    }
   },
   "source": [
    "Type stability is the idea that there is only one possible type which can be output by a method. For example, the reasonable type to output from `*(::Int64,::Int64)` is an `Int64`. No matter what you give it, it will spit out an `Int64`.\n",
    "\n",
    "This is called **[multiple dispatch](https://en.wikipedia.org/wiki/Multiple_dispatch)** : the `*` operator calls a different method depending on the types that it sees."
   ]
  },
  {
   "cell_type": "code",
   "execution_count": null,
   "metadata": {
    "slideshow": {
     "slide_type": "fragment"
    }
   },
   "outputs": [],
   "source": [
    "1//2 # fraction in Julia"
   ]
  },
  {
   "cell_type": "code",
   "execution_count": null,
   "metadata": {
    "slideshow": {
     "slide_type": "fragment"
    }
   },
   "outputs": [],
   "source": [
    "typeof(1//2)"
   ]
  },
  {
   "cell_type": "code",
   "execution_count": null,
   "metadata": {
    "slideshow": {
     "slide_type": "fragment"
    }
   },
   "outputs": [],
   "source": [
    "(1//2)*(1//2)"
   ]
  },
  {
   "cell_type": "code",
   "execution_count": null,
   "metadata": {
    "scrolled": true,
    "slideshow": {
     "slide_type": "fragment"
    }
   },
   "outputs": [],
   "source": [
    "(0.5)*(0.5) # The same function gives different results depending on the type"
   ]
  },
  {
   "cell_type": "code",
   "execution_count": null,
   "metadata": {
    "slideshow": {
     "slide_type": "fragment"
    }
   },
   "outputs": [],
   "source": [
    "(im)*(im) # This also works with complex numbers"
   ]
  },
  {
   "cell_type": "code",
   "execution_count": null,
   "metadata": {
    "slideshow": {
     "slide_type": "subslide"
    }
   },
   "outputs": [],
   "source": [
    "function myFunction(x)\n",
    "    println(\"Default output\")\n",
    "end\n",
    "\n",
    "function myFunction(x::Int) # only called when x is an integer\n",
    "    println(\"You gave me an integer!\")\n",
    "end\n",
    "\n",
    "myFunction(1.0)\n",
    "myFunction(1)\n",
    "myFunction(\"ORC\")"
   ]
  },
  {
   "cell_type": "markdown",
   "metadata": {
    "slideshow": {
     "slide_type": "slide"
    }
   },
   "source": [
    "#### How does type stability help?\n",
    "\n",
    "To explore the power of Julia's type-stable system, we will use code introspection macros to see what the code actually compiles to. Let's look at the code in LLVM, a portable assembly language:"
   ]
  },
  {
   "cell_type": "code",
   "execution_count": null,
   "metadata": {
    "slideshow": {
     "slide_type": "fragment"
    }
   },
   "outputs": [],
   "source": [
    "@code_llvm 2*5"
   ]
  },
  {
   "cell_type": "markdown",
   "metadata": {
    "slideshow": {
     "slide_type": "subslide"
    }
   },
   "source": [
    "The code above is short and sweet: it multiplies the two numbers and returns the result. It turns out that the compiled code is _the same_ as the compiled version of the same code written in C or Fortran."
   ]
  },
  {
   "cell_type": "markdown",
   "metadata": {
    "slideshow": {
     "slide_type": "subslide"
    }
   },
   "source": [
    "_Question_: in what cases does the code compile to something as efficient as C/Fortran?\n",
    "\n",
    "_Answer_: **type-stability**. If a function is type-stable, then the compiler can know what the type will be at all points in the function and smartly optimize it to the same assembly as C/Fortran. If it is not type-stable, Julia has to add expensive \"boxing\" to ensure types are found/known before operations are performed."
   ]
  },
  {
   "cell_type": "markdown",
   "metadata": {
    "slideshow": {
     "slide_type": "subslide"
    }
   },
   "source": [
    "Requiring type stability as a design decision has some interesting effects. Let's try to raise an integer to a negative power."
   ]
  },
  {
   "cell_type": "code",
   "execution_count": null,
   "metadata": {
    "slideshow": {
     "slide_type": "fragment"
    }
   },
   "outputs": [],
   "source": [
    "2^(-5)"
   ]
  },
  {
   "cell_type": "markdown",
   "metadata": {
    "slideshow": {
     "slide_type": "subslide"
    }
   },
   "source": [
    "In any other interpreted language, the above command would work and return the answer as a `Float64`. In Julia, `^(Int64, Int64)` must return an `Int64`, which cannot represent $2^{-5}=0.03125$."
   ]
  },
  {
   "cell_type": "markdown",
   "metadata": {
    "slideshow": {
     "slide_type": "slide"
    }
   },
   "source": [
    "#### What is the price of type instability?\n",
    "\n",
    "Let's write a function that can raise integers to negative exponents, and test that it works."
   ]
  },
  {
   "cell_type": "code",
   "execution_count": null,
   "metadata": {
    "slideshow": {
     "slide_type": "subslide"
    }
   },
   "outputs": [],
   "source": [
    "function expo(x,y)\n",
    "    if y>0\n",
    "        return x^y\n",
    "    else\n",
    "        x = convert(Float64,x)\n",
    "        return x^y\n",
    "    end\n",
    "end\n",
    "@assert expo(2, 5) == 32"
   ]
  },
  {
   "cell_type": "markdown",
   "metadata": {
    "slideshow": {
     "slide_type": "subslide"
    }
   },
   "source": [
    "Let's inspect the type-stable exponentiation code in LLVM."
   ]
  },
  {
   "cell_type": "code",
   "execution_count": null,
   "metadata": {
    "slideshow": {
     "slide_type": "subslide"
    }
   },
   "outputs": [],
   "source": [
    "@code_llvm ^(2,5)"
   ]
  },
  {
   "cell_type": "markdown",
   "metadata": {
    "slideshow": {
     "slide_type": "subslide"
    }
   },
   "source": [
    "Now let's inspect the type-unstable code we wrote:"
   ]
  },
  {
   "cell_type": "code",
   "execution_count": null,
   "metadata": {
    "slideshow": {
     "slide_type": "subslide"
    }
   },
   "outputs": [],
   "source": [
    "@code_llvm expo(2,5)"
   ]
  },
  {
   "cell_type": "markdown",
   "metadata": {
    "slideshow": {
     "slide_type": "slide"
    }
   },
   "source": [
    "A lot more functionalities are available and for you to discover!"
   ]
  },
  {
   "cell_type": "code",
   "execution_count": null,
   "metadata": {
    "scrolled": false,
    "slideshow": {
     "slide_type": "fragment"
    }
   },
   "outputs": [],
   "source": [
    "l = [i^2 for i in 1:10 if i%2 == 0] # list comprehensions (similar to Python)"
   ]
  },
  {
   "cell_type": "code",
   "execution_count": null,
   "metadata": {
    "slideshow": {
     "slide_type": "fragment"
    }
   },
   "outputs": [],
   "source": [
    "sumEvenSquares = sum(i^2 for i in 1:10 if i%2 == 0) # summing over an iterator"
   ]
  },
  {
   "cell_type": "markdown",
   "metadata": {
    "slideshow": {
     "slide_type": "slide"
    }
   },
   "source": [
    "### Navigating Julia\n",
    "Julia has a package manager to quickly download, install, update and uninstall new tools (_packages_)"
   ]
  },
  {
   "cell_type": "code",
   "execution_count": null,
   "metadata": {
    "slideshow": {
     "slide_type": "subslide"
    }
   },
   "outputs": [],
   "source": [
    "# Add Packages Plots, and Pyplot (can take some time)\n",
    "Pkg.add(\"Plots\")\n",
    "Pkg.add(\"PyPlot\")\n",
    "# Update\n",
    "Pkg.update()\n",
    "#Remove:\n",
    "# Pkg.rm(\"PyPlot\")"
   ]
  },
  {
   "cell_type": "markdown",
   "metadata": {
    "slideshow": {
     "slide_type": "slide"
    }
   },
   "source": [
    "Use `?` to get the documentation of a function"
   ]
  },
  {
   "cell_type": "code",
   "execution_count": null,
   "metadata": {
    "slideshow": {
     "slide_type": "fragment"
    }
   },
   "outputs": [],
   "source": [
    "?eig"
   ]
  },
  {
   "cell_type": "markdown",
   "metadata": {
    "slideshow": {
     "slide_type": "slide"
    }
   },
   "source": [
    "Use tab-completion to auto-complete functions and variables names: try ``myF<TAB>``:"
   ]
  },
  {
   "cell_type": "code",
   "execution_count": null,
   "metadata": {
    "slideshow": {
     "slide_type": "fragment"
    }
   },
   "outputs": [],
   "source": [
    "myF\n",
    "fac"
   ]
  },
  {
   "cell_type": "markdown",
   "metadata": {
    "slideshow": {
     "slide_type": "slide"
    }
   },
   "source": [
    "The ``methods`` function lists all of the different implementations of a function depending on the input types.\n",
    "Click on the link to see the Julia source code."
   ]
  },
  {
   "cell_type": "code",
   "execution_count": null,
   "metadata": {
    "slideshow": {
     "slide_type": "fragment"
    }
   },
   "outputs": [],
   "source": [
    "methods(sin)"
   ]
  },
  {
   "cell_type": "markdown",
   "metadata": {
    "slideshow": {
     "slide_type": "slide"
    }
   },
   "source": [
    "### Plotting in IJulia\n",
    "There are several Julia plotting packages. \n",
    "- [Plots][4] is a _meta_ plotting package, that can use any other plotting package to make the same plot (including all of the following).\n",
    "- [Plotly supports Julia][2], for great interactive visualization with the `PlotlyJS` package.\n",
    "- [PyPlot.jl][3] is a Julia interface to Matplotlib, and should feel familiar to both MATLAB and Python users.\n",
    "- [Gadfly][1] is written entirely in Julia, inspired by ggplot2, and concentrates on statistical graphics.\n",
    "- And a lot more\n",
    "\n",
    "Jupyter/IJulia will render the plots directly on the notebook!\n",
    "\n",
    "[1]: https://github.com/dcjones/Gadfly.jl\n",
    "[2]: https://plot.ly/julia/\n",
    "[3]: https://github.com/stevengj/PyPlot.jl\n",
    "[4]: https://juliaplots.github.io"
   ]
  },
  {
   "cell_type": "code",
   "execution_count": null,
   "metadata": {
    "slideshow": {
     "slide_type": "slide"
    }
   },
   "outputs": [],
   "source": [
    "using Plots\n",
    "pyplot() #plot using Matplotlib\n",
    "x = linspace(0,5,1000)\n",
    "plot(x, sin.(x.^2))"
   ]
  },
  {
   "cell_type": "markdown",
   "metadata": {
    "slideshow": {
     "slide_type": "fragment"
    }
   },
   "source": [
    "Note that the first plot while always take a few seconds to be drawn, a consequence of Julia's just in time compilation. Lots of other plot types are available"
   ]
  },
  {
   "cell_type": "markdown",
   "metadata": {
    "slideshow": {
     "slide_type": "slide"
    }
   },
   "source": [
    "# Appendix 3: Advanced use of Julia and Notebooks\n",
    "The following is just a sample of what can be done with Julia and notebooks. Feel free to explore by yourself any item of interest"
   ]
  },
  {
   "cell_type": "markdown",
   "metadata": {
    "slideshow": {
     "slide_type": "slide"
    }
   },
   "source": [
    "### Notebooks\n",
    "Jupyter notebooks have a lot of interesting hidden functionalities!"
   ]
  },
  {
   "cell_type": "markdown",
   "metadata": {
    "slideshow": {
     "slide_type": "subslide"
    }
   },
   "source": [
    "**Github and sharing**\n",
    "\n",
    "If you save your .ipynb notebook file in a .git project, hosted on Github, you can easily visualize and share it online (in non-interactive mode).\n",
    "\n",
    "For example, this notebook is available at https://github.com/sebmart/intro-julia-jupyter/blob/master/intro-julia-jupyter.ipynb\n",
    "\n",
    "You can also use [Gist](https://gist.github.com) and [nbviewer](http://nbviewer.jupyter.org) to quickly share a notebook (for example to your advisor) without creating a git repo."
   ]
  },
  {
   "cell_type": "markdown",
   "metadata": {
    "slideshow": {
     "slide_type": "subslide"
    }
   },
   "source": [
    "**Converting your notebook**\n",
    "\n",
    "Jupyter notebooks are a popular format that can be converted to a variety of types of documents, depending on your needs:\n",
    "- Latex\n",
    "- HTML\n",
    "- PDF\n",
    "- Slides with Reveal.JS (used to present this notebook!)\n",
    "- Markdown ...\n",
    "\n",
    "These conversions use the [`nbconvert`](https://github.com/jupyter/nbconvert) command."
   ]
  },
  {
   "cell_type": "markdown",
   "metadata": {
    "slideshow": {
     "slide_type": "subslide"
    }
   },
   "source": [
    "**Remote computing**\n",
    "\n",
    "The Notebook system is a web interface. Notebooks can be run on another computer. This is useful if you want your code to run on a more powerful remote machine.\n",
    "\n",
    "[Port-forwarding](https://help.ubuntu.com/community/SSH/OpenSSH/PortForwarding) through SSH is a good start for this."
   ]
  },
  {
   "cell_type": "markdown",
   "metadata": {
    "slideshow": {
     "slide_type": "subslide"
    }
   },
   "source": [
    "**Advanced Markdown**\n",
    "\n",
    "Jupyter text cells use Markdown for formatting. Markdown is an easy to use formatting language (a little like HTML or LaTeX in more simple). You can use the text of this notebook as an example, or learn more [here](https://github.com/adam-p/markdown-here/wiki/Markdown-Cheatsheet).\n",
    "\n",
    "Jupyter uses _Github flavored Markdown_, and is particularly good at displaying math and colored code. You can even include a video!"
   ]
  },
  {
   "cell_type": "markdown",
   "metadata": {
    "slideshow": {
     "slide_type": "slide"
    }
   },
   "source": [
    "### Julia\n",
    "We only presented a small subset of Julia functionalities. We list here of few interesting things you may not know."
   ]
  },
  {
   "cell_type": "markdown",
   "metadata": {
    "slideshow": {
     "slide_type": "subslide"
    }
   },
   "source": [
    "**Using the command line from Julia**\n",
    "\n",
    "You can run bash commands directly from Julia by starting the command with a semicolon: `;`"
   ]
  },
  {
   "cell_type": "code",
   "execution_count": null,
   "metadata": {
    "slideshow": {
     "slide_type": "fragment"
    }
   },
   "outputs": [],
   "source": [
    ";ls"
   ]
  },
  {
   "cell_type": "markdown",
   "metadata": {
    "slideshow": {
     "slide_type": "subslide"
    }
   },
   "source": [
    "**Unicode character** \n",
    "\n",
    "You can use unicode characters as part of variables and function names in Julia. You can use $\\LaTeX$-style autocompletes in the Julia terminal or a Jupyter/IJulia code-cell to write them. Some of them are already defined Julia constants and functions\n",
    "> Try to type `\\pi<TAB>` in a cell."
   ]
  },
  {
   "cell_type": "code",
   "execution_count": null,
   "metadata": {
    "slideshow": {
     "slide_type": "fragment"
    }
   },
   "outputs": [],
   "source": [
    "π"
   ]
  },
  {
   "cell_type": "code",
   "execution_count": null,
   "metadata": {
    "slideshow": {
     "slide_type": "subslide"
    }
   },
   "outputs": [],
   "source": [
    "\"carrot\" ∈ [\"potato\", \"tomato\", \"carrot\"]"
   ]
  },
  {
   "cell_type": "markdown",
   "metadata": {
    "slideshow": {
     "slide_type": "subslide"
    }
   },
   "source": [
    "**Juno**\n",
    "\n",
    "Julia has a very nice and powerful text editor, [_Juno_](http://junolab.org), that is built on [Atom](https://atom.io). It is very similar to the Matlab interface or RStudio. Functionalities include:\n",
    "- Autocomplete\n",
    "- Integrated Plotting\n",
    "- Debugging, Manual, ...\n",
    "\n",
    "It is better suited for serious projects with several files, when an IJulia notebook is not enough."
   ]
  },
  {
   "cell_type": "markdown",
   "metadata": {
    "slideshow": {
     "slide_type": "subslide"
    }
   },
   "source": [
    "**Advanced Julia functionalities**\n",
    "Julia is a state-of-the-art programming language, with lots of useful functionalities, including:\n",
    "- [Powerful Macros](http://docs.julialang.org/en/release-0.6/manual/metaprogramming/) (meta-programming)\n",
    "- [Code testing](http://docs.julialang.org/en/release-0.6/stdlib/test/)\n",
    "- [User-defined types](docs.julialang.org/en/release-0.6/manual/types/), that are as fast as built-in ones.\n",
    "- [Package creation](http://docs.julialang.org/en/release-0.6/manual/modules/)\n",
    "- A new [debugger](https://github.com/Keno/Gallium.jl) "
   ]
  },
  {
   "cell_type": "markdown",
   "metadata": {
    "slideshow": {
     "slide_type": "slide"
    }
   },
   "source": [
    "### Interesting Packages\n",
    "Using the Package eco-system, there is almost nothing you cannot achieve:"
   ]
  },
  {
   "cell_type": "markdown",
   "metadata": {
    "slideshow": {
     "slide_type": "fragment"
    }
   },
   "source": [
    "-       Advanced Plotting   with [**Plots.jl**](https://juliaplots.github.io). Functionalities include 3D-plots, animated plots, stats plots, home-made plot \"recipes\" ..."
   ]
  },
  {
   "cell_type": "markdown",
   "metadata": {
    "slideshow": {
     "slide_type": "fragment"
    }
   },
   "source": [
    "- Call any python call using [**PyCall.jl**](https://github.com/JuliaPy/PyCall.jl). (you can also interacts with several other languages)"
   ]
  },
  {
   "cell_type": "markdown",
   "metadata": {
    "slideshow": {
     "slide_type": "subslide"
    }
   },
   "source": [
    "- Advanced graphs/networks algorithms with [**LightGraphs.jl**](https://github.com/JuliaGraphs/LightGraphs.jl)"
   ]
  },
  {
   "cell_type": "markdown",
   "metadata": {
    "slideshow": {
     "slide_type": "fragment"
    }
   },
   "source": [
    "- Applications in [**Finance**](https://github.com/JuliaQuant), [**Biology**](https://github.com/BioJulia/Bio.jl), [**Stats and Machine Learning**](http://juliastats.github.io), [**Optimization**](http://www.juliaopt.org) (including the great [**JuMP**](https://github.com/JuliaOpt/JuMP.jl) package!)"
   ]
  },
  {
   "cell_type": "markdown",
   "metadata": {
    "slideshow": {
     "slide_type": "subslide"
    }
   },
   "source": [
    "- Save and load your variables or environment to a file with [**JLD.jl**](https://github.com/JuliaIO/JLD.jl)"
   ]
  },
  {
   "cell_type": "markdown",
   "metadata": {
    "slideshow": {
     "slide_type": "fragment"
    }
   },
   "source": [
    "- More data structures in [**DataStructures.jl**](https://github.com/JuliaLang/DataStructures.jl)"
   ]
  },
  {
   "cell_type": "markdown",
   "metadata": {
    "slideshow": {
     "slide_type": "fragment"
    }
   },
   "source": [
    "- And a lot more in the **over 1200 registered packages**!"
   ]
  }
 ],
 "metadata": {
  "celltoolbar": "Slideshow",
  "kernelspec": {
   "display_name": "Julia 0.6.2",
   "language": "julia",
   "name": "julia-0.6"
  },
  "language_info": {
   "file_extension": ".jl",
   "mimetype": "application/julia",
   "name": "julia",
   "version": "0.6.2"
  }
 },
 "nbformat": 4,
 "nbformat_minor": 1
}
